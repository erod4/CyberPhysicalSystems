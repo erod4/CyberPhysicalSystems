{
 "cells": [
  {
   "cell_type": "code",
   "execution_count": 1,
   "metadata": {},
   "outputs": [
    {
     "ename": "",
     "evalue": "",
     "output_type": "error",
     "traceback": [
      "\u001b[1;31mThe Kernel crashed while executing code in the current cell or a previous cell. \n",
      "\u001b[1;31mPlease review the code in the cell(s) to identify a possible cause of the failure. \n",
      "\u001b[1;31mClick <a href='https://aka.ms/vscodeJupyterKernelCrash'>here</a> for more info. \n",
      "\u001b[1;31mView Jupyter <a href='command:jupyter.viewOutput'>log</a> for further details."
     ]
    }
   ],
   "source": [
    "import cv2\n",
    "import numpy as np\n",
    "\n",
    "# Initialize video capture (0 is usually the default webcam)\n",
    "cap = cv2.VideoCapture(0)\n",
    "\n",
    "if not cap.isOpened():\n",
    "    raise IOError(\"Cannot open webcam\")\n",
    "\n",
    "while True:\n",
    "    ret, frame = cap.read()\n",
    "    if not ret:\n",
    "        break\n",
    "\n",
    "    # Convert frame to HSV color space\n",
    "    hsv = cv2.cvtColor(frame, cv2.COLOR_BGR2HSV)\n",
    "\n",
    "    # Define HSV range for green color (tweak these values if needed)\n",
    "    lower_green = np.array([40, 40, 40])\n",
    "    upper_green = np.array([80, 255, 255])\n",
    "\n",
    "    # Create a mask for green color\n",
    "    mask = cv2.inRange(hsv, lower_green, upper_green)\n",
    "\n",
    "    # Apply Gaussian blur to the mask to reduce noise\n",
    "    mask_blurred = cv2.GaussianBlur(mask, (9, 9), 2)\n",
    "\n",
    "    # Detect circles in the blurred mask using Hough Circle Transform\n",
    "    circles = cv2.HoughCircles(mask_blurred, cv2.HOUGH_GRADIENT, dp=1,\n",
    "                               minDist=frame.shape[0] / 8,\n",
    "                               param1=50, param2=30, minRadius=0, maxRadius=0)\n",
    "\n",
    "    # If circles are detected, draw them on the original frame\n",
    "    if circles is not None:\n",
    "        circles = np.uint16(np.around(circles))\n",
    "        for circle in circles[0, :]:\n",
    "            x, y, r = circle\n",
    "            # Draw the circle outline in green\n",
    "            cv2.circle(frame, (x, y), r, (0, 255, 0), 3)\n",
    "            # Draw tqqqhe circle center in red\n",
    "            cv2.circle(frame, (x, y), 2, (0, 0, 255), 3)\n",
    "            break\n",
    "\n",
    "    # Display the frame with detected circles\n",
    "    cv2.imshow('Green Circle Detection', frame)\n",
    "\n",
    "    # Exit loop when 'q' key is pressed\n",
    "    if cv2.waitKey(1) & 0xFF == ord('q'):\n",
    "        break\n",
    "\n",
    "# Release resources and close windows\n",
    "cap.release()\n",
    "cv2.destroyAllWindows()\n"
   ]
  },
  {
   "cell_type": "code",
   "execution_count": null,
   "metadata": {},
   "outputs": [],
   "source": []
  }
 ],
 "metadata": {
  "kernelspec": {
   "display_name": "myenv",
   "language": "python",
   "name": "python3"
  },
  "language_info": {
   "codemirror_mode": {
    "name": "ipython",
    "version": 3
   },
   "file_extension": ".py",
   "mimetype": "text/x-python",
   "name": "python",
   "nbconvert_exporter": "python",
   "pygments_lexer": "ipython3",
   "version": "3.12.8"
  }
 },
 "nbformat": 4,
 "nbformat_minor": 2
}
